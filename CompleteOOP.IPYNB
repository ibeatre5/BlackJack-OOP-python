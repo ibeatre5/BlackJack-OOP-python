{
 "cells": [
  {
   "cell_type": "code",
   "execution_count": 4,
   "metadata": {},
   "outputs": [
    {
     "name": "stdout",
     "output_type": "stream",
     "text": [
      "[(3, 'clubs'), (11, 'diamonds')]\n"
     ]
    },
    {
     "name": "stdin",
     "output_type": "stream",
     "text": [
      "Would you like to hit, or stand?  hit\n"
     ]
    },
    {
     "name": "stdout",
     "output_type": "stream",
     "text": [
      "[(3, 'clubs'), (11, 'diamonds'), (4, 'diamonds')]\n"
     ]
    },
    {
     "name": "stdin",
     "output_type": "stream",
     "text": [
      "Would you like to hit, or stand?  stand\n"
     ]
    },
    {
     "name": "stdout",
     "output_type": "stream",
     "text": [
      "Dealer Wins!\n",
      "[(1, 'diamonds'), (5, 'spades'), (2, 'spades'), (6, 'clubs'), (12, 'spades')]\n",
      "[(3, 'clubs'), (11, 'diamonds'), (4, 'diamonds')]\n"
     ]
    }
   ],
   "source": [
    "import random \n",
    "class Deck:\n",
    "    \n",
    "    def __init__(self):\n",
    "        self.suits = ['spades', 'diamonds', 'hearts', 'clubs']\n",
    "        self.ranks = [i for i in range (1, 13)]\n",
    "        self.cardsList = [(rank, suit) for rank in self.ranks for suit in self.suits]\n",
    "        \n",
    "\n",
    "\n",
    "    def shuffle(self):\n",
    "        random.shuffle(self.cardsList)\n",
    "        \n",
    "\n",
    "class Player:\n",
    "    def __init__(self):\n",
    "        self.hand = []\n",
    "        self.total = 0\n",
    "        \n",
    "    def __str__(self):\n",
    "        return f\"Player\"\n",
    "        \n",
    "    \n",
    "        \n",
    "    def hit(self, cls):\n",
    "        self.hand.append(cls.cardsList.pop())\n",
    "        self.getTally()\n",
    "    \n",
    "    def getTally(self):\n",
    "        self.total = 0\n",
    "        for i in self.hand:\n",
    "            self.total+=i[0]\n",
    "        return self.total\n",
    "    \n",
    "    @staticmethod\n",
    "    def bust():\n",
    "        print(\"You're over 21, BUST\")\n",
    "        \n",
    "    @classmethod\n",
    "    def win(self, cls):\n",
    "        return f\"{cls.__class__.__name__} Wins!\"\n",
    "        \n",
    "        \n",
    "class Dealer(Player):\n",
    "    @classmethod\n",
    "    def deal(self, cls, deck):\n",
    "        while len(cls.hand)<=1:\n",
    "            cls.hand.append(deck.cardsList.pop())\n",
    "        return cls.hand\n",
    "        \n",
    "def main(): \n",
    "    deck = Deck()\n",
    "    player = Player()\n",
    "    dealer = Dealer()\n",
    "    \n",
    "    \n",
    "    deck.shuffle()\n",
    "    dealer.deal(player, deck)\n",
    "    dealer.deal(dealer, deck)\n",
    "#     print(player.hand)\n",
    "    while True: \n",
    "        print(player.hand)\n",
    "        \n",
    "        \n",
    "        \n",
    "        \n",
    "        if dealer.total > 21:\n",
    "            print(dealer.hand)\n",
    "            dealer.bust()\n",
    "            player.win(player)\n",
    "            \n",
    "            break\n",
    "        elif player.total > 21:\n",
    "            print(dealer.hand)\n",
    "            player.bust()\n",
    "            dealer.win(dealer)\n",
    "            \n",
    "            break\n",
    "        ask = input(\"Would you like to hit, or stand? \")\n",
    "        if ask == 'hit':\n",
    "            player.hit(deck)\n",
    "            dealer.hit(deck)\n",
    "        elif ask == 'quit':\n",
    "            break\n",
    "        elif ask == 'stand':\n",
    "            while dealer.total <= 16:\n",
    "                dealer.hit(deck)\n",
    "            if dealer.total > player.total:\n",
    "                print(dealer.win(dealer))\n",
    "                print(dealer.hand)\n",
    "                print(player.hand)\n",
    "               \n",
    "                break\n",
    "            elif player.total > dealer.total:\n",
    "                print(player.win(player))\n",
    "                break\n",
    "            \n",
    "\n",
    "\n",
    "        \n",
    "    \n",
    "#     player.hit(deck)\n",
    "#     print(player.hand)\n",
    "#     print(len(deck.cardsList))\n",
    "#     print(dealer.hand)\n",
    "#     print(len(deck.cardsList))\n",
    "main()        "
   ]
  },
  {
   "cell_type": "code",
   "execution_count": null,
   "metadata": {},
   "outputs": [],
   "source": []
  },
  {
   "cell_type": "code",
   "execution_count": null,
   "metadata": {},
   "outputs": [],
   "source": [
    "\n"
   ]
  },
  {
   "cell_type": "code",
   "execution_count": null,
   "metadata": {},
   "outputs": [],
   "source": []
  }
 ],
 "metadata": {
  "kernelspec": {
   "display_name": "Python 3",
   "language": "python",
   "name": "python3"
  },
  "language_info": {
   "codemirror_mode": {
    "name": "ipython",
    "version": 3
   },
   "file_extension": ".py",
   "mimetype": "text/x-python",
   "name": "python",
   "nbconvert_exporter": "python",
   "pygments_lexer": "ipython3",
   "version": "3.7.3"
  }
 },
 "nbformat": 4,
 "nbformat_minor": 2
}
